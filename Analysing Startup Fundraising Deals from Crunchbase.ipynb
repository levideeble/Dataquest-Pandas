{
 "cells": [
  {
   "cell_type": "markdown",
   "metadata": {
    "collapsed": true
   },
   "source": [
    "# Analysing Startup Fundraising Deals from Crunchbase\n",
    "\n",
    "\n",
    "## Introduction\n",
    "\n",
    "In this project, we will use Pandas along with memory optimisation techniques, chunk data processing and SQLite integration to allow us to work with larger datasets.\n",
    "Specifically, we'll analyse startup investments from [Crunchbase.com](https://www.crunchbase.com/), which is a website that crowdsources information on the fundraising rounds of many startups.\n",
    "\n",
    "The [dataset of investments](https://github.com/datahoarder/crunchbase-october-2013/blob/master/crunchbase-investments.csv) we'll be exploring is from October 2013. Each row is an individual investment from a venture capitalist or institution - they contain information such as the name of the startup and investor alongside their locations, as well as the amount and date of the investment itself.\n",
    "\n",
    "Throughout this project, we'll practice working with different memory constraints. For context, the `crunchbase-investments.csv` consumes 10.3 MB of disk space.\n",
    "\n",
    "In this first step, we'll explore our data to get an idea of how we can optimise the datatypes and how we might query our dataset.\n",
    "We'll assume we only have 10 MB of available memory. This means we need our chunks to consume less than 50% of our available memory.\n",
    "\n",
    "Since the dataset contains over 50,000 rows, let's read the dataset into dataframes using 5,000 row chunks.\n"
   ]
  },
  {
   "cell_type": "code",
   "execution_count": 1,
   "metadata": {},
   "outputs": [
    {
     "name": "stdout",
     "output_type": "stream",
     "text": [
      "company_country_code          1\n",
      "company_name                  1\n",
      "company_permalink             1\n",
      "company_region                1\n",
      "investor_region               2\n",
      "investor_permalink            2\n",
      "investor_name                 2\n",
      "funded_quarter                3\n",
      "funded_at                     3\n",
      "funded_month                  3\n",
      "funded_year                   3\n",
      "funding_round_type            3\n",
      "company_state_code          492\n",
      "company_city                533\n",
      "company_category_code       643\n",
      "raised_amount_usd          3599\n",
      "investor_country_code     12001\n",
      "investor_city             12480\n",
      "investor_state_code       16809\n",
      "investor_category_code    50427\n",
      "dtype: int64\n"
     ]
    }
   ],
   "source": [
    "# How many missing values are in each column?\n",
    "\n",
    "import pandas as pd\n",
    "import numpy as np\n",
    "\n",
    "crunchbase_iter = pd.read_csv('crunchbase-investments.csv', chunksize=5000)\n",
    "\n",
    "missing = []\n",
    "for chunk in crunchbase_iter:\n",
    "    missing_values = chunk.isnull().sum(axis=0)\n",
    "    missing.append(missing_values)\n",
    "\n",
    "missing_combined = pd.concat(missing)\n",
    "missing_final = missing_combined.groupby(missing_combined.index, axis=0).sum().sort_values()\n",
    "print(missing_final)\n",
    "        \n",
    "    "
   ]
  },
  {
   "cell_type": "code",
   "execution_count": 2,
   "metadata": {},
   "outputs": [
    {
     "name": "stdout",
     "output_type": "stream",
     "text": [
      "company_permalink :  3.8711891174316406\n",
      "\n",
      "\n",
      "company_name :  3.4269304275512695\n",
      "\n",
      "\n",
      "company_category_code :  3.2639999389648438\n",
      "\n",
      "\n",
      "company_country_code :  3.0266036987304688\n",
      "\n",
      "\n",
      "company_state_code :  2.9635419845581055\n",
      "\n",
      "\n",
      "company_region :  3.2548837661743164\n",
      "\n",
      "\n",
      "company_city :  3.3448543548583984\n",
      "\n",
      "\n",
      "investor_permalink :  4.751201629638672\n",
      "\n",
      "\n",
      "investor_name :  3.737185478210449\n",
      "\n",
      "\n",
      "investor_category_code :  0.594970703125\n",
      "\n",
      "\n",
      "investor_country_code :  2.5260353088378906\n",
      "\n",
      "\n",
      "investor_state_code :  2.36325740814209\n",
      "\n",
      "\n",
      "investor_region :  3.2404909133911133\n",
      "\n",
      "\n",
      "investor_city :  2.7536821365356445\n",
      "\n",
      "\n",
      "funding_round_type :  3.254084587097168\n",
      "\n",
      "\n",
      "funded_at :  3.379471778869629\n",
      "\n",
      "\n",
      "funded_month :  3.2282180786132812\n",
      "\n",
      "\n",
      "funded_quarter :  3.2282180786132812\n",
      "\n",
      "\n",
      "funded_year :  0.40474700927734375\n",
      "\n",
      "\n",
      "raised_amount_usd :  0.40474700927734375\n",
      "\n",
      "\n"
     ]
    }
   ],
   "source": [
    "# How much memory does each column consume (MB)?\n",
    "\n",
    "crunchbase_iter = pd.read_csv('crunchbase-investments.csv', chunksize=5000)\n",
    "\n",
    "col_memory = {}\n",
    "for chunk in crunchbase_iter:\n",
    "    for col in chunk.columns:\n",
    "        memory = chunk[col].memory_usage(deep=True) / 2**20\n",
    "        if col in col_memory:\n",
    "            col_memory[col] += memory\n",
    "        else:\n",
    "            col_memory[col] = memory\n",
    "            \n",
    "for col in col_memory:\n",
    "    print(col, ': ', col_memory[col])\n",
    "    print('\\n')\n",
    "    "
   ]
  },
  {
   "cell_type": "code",
   "execution_count": 3,
   "metadata": {
    "scrolled": true
   },
   "outputs": [
    {
     "name": "stdout",
     "output_type": "stream",
     "text": [
      "57.01831340789795\n"
     ]
    }
   ],
   "source": [
    "# What is the total memory footprint of all the chunks combined (MB)?\n",
    "\n",
    "total_memory = 0\n",
    "for col in col_memory:\n",
    "    total_memory += col_memory[col]\n",
    "\n",
    "print(total_memory)"
   ]
  },
  {
   "cell_type": "code",
   "execution_count": 4,
   "metadata": {},
   "outputs": [
    {
     "name": "stdout",
     "output_type": "stream",
     "text": [
      "     company_permalink company_name company_category_code  \\\n",
      "0    /company/advercar     AdverCar           advertising   \n",
      "1  /company/launchgram   LaunchGram                  news   \n",
      "2        /company/utap         uTaP             messaging   \n",
      "3    /company/zoopshop     ZoopShop              software   \n",
      "4    /company/efuneral     eFuneral                   web   \n",
      "\n",
      "  company_country_code company_state_code         company_region  \\\n",
      "0                  USA                 CA                 SF Bay   \n",
      "1                  USA                 CA                 SF Bay   \n",
      "2                  USA                NaN  United States - Other   \n",
      "3                  USA                 OH               Columbus   \n",
      "4                  USA                 OH              Cleveland   \n",
      "\n",
      "    company_city          investor_permalink      investor_name  \\\n",
      "0  San Francisco  /company/1-800-flowers-com  1-800-FLOWERS.COM   \n",
      "1  Mountain View        /company/10xelerator        10Xelerator   \n",
      "2            NaN        /company/10xelerator        10Xelerator   \n",
      "3       columbus        /company/10xelerator        10Xelerator   \n",
      "4      Cleveland        /company/10xelerator        10Xelerator   \n",
      "\n",
      "  investor_category_code investor_country_code investor_state_code  \\\n",
      "0                    NaN                   USA                  NY   \n",
      "1                finance                   USA                  OH   \n",
      "2                finance                   USA                  OH   \n",
      "3                finance                   USA                  OH   \n",
      "4                finance                   USA                  OH   \n",
      "\n",
      "  investor_region investor_city funding_round_type   funded_at funded_month  \\\n",
      "0        New York      New York           series-a  2012-10-30      2012-10   \n",
      "1        Columbus      Columbus              other  2012-01-23      2012-01   \n",
      "2        Columbus      Columbus              other  2012-01-01      2012-01   \n",
      "3        Columbus      Columbus              angel  2012-02-15      2012-02   \n",
      "4        Columbus      Columbus              other  2011-09-08      2011-09   \n",
      "\n",
      "  funded_quarter  funded_year  raised_amount_usd  \n",
      "0        2012-Q4         2012            2000000  \n",
      "1        2012-Q1         2012              20000  \n",
      "2        2012-Q1         2012              20000  \n",
      "3        2012-Q1         2012              20000  \n",
      "4        2011-Q3         2011              20000  \n"
     ]
    }
   ],
   "source": [
    "# Which columns are not useful for analysis purposes and can be dropped?\n",
    "\n",
    "crunchbase_first_rows = pd.read_csv('crunchbase-investments.csv', nrows=5)\n",
    "\n",
    "print(crunchbase_first_rows)"
   ]
  },
  {
   "cell_type": "markdown",
   "metadata": {},
   "source": [
    "Looking at the contents of the columns above, we can see that the `company_permalink` and `investor_permalink` columns are not useful as we already have the names of the companies/investors in other columns.\n",
    "Also, the `funded_month`, `funded_quarter` and `funded_year` columns are not useful as this information can be obtained using the `funded_at` column.\n",
    "\n",
    "Let's drop the columns that we do not need."
   ]
  },
  {
   "cell_type": "code",
   "execution_count": 5,
   "metadata": {},
   "outputs": [
    {
     "name": "stdout",
     "output_type": "stream",
     "text": [
      "['company_name', 'company_category_code', 'company_country_code', 'company_state_code', 'company_region', 'company_city', 'investor_name', 'investor_category_code', 'investor_country_code', 'investor_state_code', 'investor_region', 'investor_city', 'funding_round_type', 'funded_at', 'raised_amount_usd']\n"
     ]
    }
   ],
   "source": [
    "# Create column list with only the useful columns. This will be used when reading in the csv moving forward.\n",
    "\n",
    "cols_to_drop = ['company_permalink', 'investor_permalink', 'funded_month', 'funded_quarter', 'funded_year']\n",
    "\n",
    "useful_cols = []\n",
    "for col in crunchbase_first_rows.columns:\n",
    "    if col not in cols_to_drop:\n",
    "        useful_cols.append(col)\n",
    "\n",
    "print(useful_cols)"
   ]
  },
  {
   "cell_type": "markdown",
   "metadata": {},
   "source": [
    "## Selecting Data Types\n",
    "\n",
    "Now that we have an idea of the missing values in each column and their memory footprints, we can take a look at their datatypes.\n",
    "This will allow us to optimise our dataframe by selecting the most appropriate datatypes. We'll aim to reduce the overall memory the data consumes to under 10 megabytes."
   ]
  },
  {
   "cell_type": "code",
   "execution_count": 6,
   "metadata": {
    "scrolled": false
   },
   "outputs": [
    {
     "name": "stdout",
     "output_type": "stream",
     "text": [
      "company_name : ['object']\n",
      "\n",
      "\n",
      "company_category_code : ['object']\n",
      "\n",
      "\n",
      "company_country_code : ['object']\n",
      "\n",
      "\n",
      "company_state_code : ['object']\n",
      "\n",
      "\n",
      "company_region : ['object']\n",
      "\n",
      "\n",
      "company_city : ['object']\n",
      "\n",
      "\n",
      "investor_name : ['object']\n",
      "\n",
      "\n",
      "investor_category_code : ['object', 'float64']\n",
      "\n",
      "\n",
      "investor_country_code : ['object', 'float64']\n",
      "\n",
      "\n",
      "investor_state_code : ['object', 'float64']\n",
      "\n",
      "\n",
      "investor_region : ['object']\n",
      "\n",
      "\n",
      "investor_city : ['object', 'float64']\n",
      "\n",
      "\n",
      "funding_round_type : ['object']\n",
      "\n",
      "\n",
      "funded_at : ['object']\n",
      "\n",
      "\n",
      "raised_amount_usd : ['float64']\n",
      "\n",
      "\n"
     ]
    }
   ],
   "source": [
    "# Let's print the type of each column now we have dropped the ones that are not useful for analysis. We shall also look to see if the types shift between chunks.\n",
    "\n",
    "crunchbase_iter = pd.read_csv('crunchbase-investments.csv', chunksize=5000, usecols=useful_cols)\n",
    "\n",
    "col_dtypes = {}\n",
    "for chunk in crunchbase_iter:\n",
    "    for col in chunk.columns:\n",
    "        col_dtype = str(chunk[col].dtype)\n",
    "        if col in col_dtypes:\n",
    "            if col_dtype not in col_dtypes[col]:\n",
    "                col_dtypes[col].append(col_dtype)\n",
    "        else:\n",
    "            col_dtypes[col] = [col_dtype]\n",
    "\n",
    "for col in col_dtypes:\n",
    "    print(col, ':', col_dtypes[col])\n",
    "    print('\\n')\n",
    "    "
   ]
  },
  {
   "cell_type": "markdown",
   "metadata": {},
   "source": [
    "As the `investor_category_code`, `investor_country_code`, `investor_state_code` and `investor_city` columns shift between types, we will explicitly read them as object types moving forward.\n",
    "\n",
    "We can also parse the `funded_at` column as a datetime moving forward as this is a more memory efficient way to represent dates.\n",
    "\n",
    "The only remaining numeric column will then be `raised_amount_usd`. As float types can lose accuracy with numbers higher than a certain value, we will keep this column as a float64 to prevent that from happening.\n",
    "\n",
    "Now let's analyse the unique value counts across all of the chunks to see if we can convert them to a category type."
   ]
  },
  {
   "cell_type": "code",
   "execution_count": 7,
   "metadata": {
    "scrolled": false
   },
   "outputs": [
    {
     "name": "stdout",
     "output_type": "stream",
     "text": [
      "['company_name', 'company_category_code', 'company_country_code', 'company_state_code', 'company_region', 'company_city', 'investor_name', 'investor_category_code', 'investor_country_code', 'investor_state_code', 'investor_region', 'investor_city', 'funding_round_type']\n"
     ]
    }
   ],
   "source": [
    "# Do any of the columns have less than 50% unique values and are therefore candidates for conversion into the category type?\n",
    "\n",
    "dtypes = {'investor_category_code': 'object', 'investor_country_code': 'object', 'investor_state_code': 'object', 'investor_city': 'object'}\n",
    "\n",
    "crunchbase_iter = pd.read_csv('crunchbase-investments.csv', chunksize=5000, usecols=useful_cols, parse_dates=['funded_at'], dtype=dtypes) # Parse funded_at as a datetime\n",
    "\n",
    "column_vc = {}\n",
    "for chunk in crunchbase_iter:\n",
    "    string_cols = chunk.select_dtypes(include='object')\n",
    "    for col in string_cols.columns:\n",
    "        value_counts = string_cols[col].value_counts()\n",
    "        if col in column_vc:\n",
    "            column_vc[col].append(value_counts)\n",
    "        else:\n",
    "            column_vc[col] = [value_counts]\n",
    "\n",
    "combined_vc = {}\n",
    "for col in column_vc:\n",
    "    combined_vc[col] = pd.concat(column_vc[col], axis=0)\n",
    "    combined_vc[col] = combined_vc[col].groupby(combined_vc[col].index).sum()\n",
    "\n",
    "# Count the unique and total values per column. Then print the columns with less than 50% unique\n",
    "unique_values = {}\n",
    "total_values = {}\n",
    "convert_to_category = []\n",
    "for col in combined_vc:\n",
    "    unique_count = len(combined_vc[col])\n",
    "    unique_values[col] = unique_count\n",
    "    \n",
    "    total_count = combined_vc[col].sum()\n",
    "    total_values[col] = total_count\n",
    "\n",
    "    percentage_unique = (unique_values[col] / total_values[col]) * 100\n",
    "    if percentage_unique < 50:\n",
    "        convert_to_category.append(col)\n",
    "        \n",
    "print(convert_to_category)"
   ]
  },
  {
   "cell_type": "markdown",
   "metadata": {},
   "source": [
    "Now let's read the columns identified as having less than 50% unique values into our dataframe chunks as the category type.\n",
    "We can also print the overall memory footprint of our data to if we have reduced it below our 10 megabyte target."
   ]
  },
  {
   "cell_type": "code",
   "execution_count": 8,
   "metadata": {},
   "outputs": [
    {
     "name": "stdout",
     "output_type": "stream",
     "text": [
      "6.601466178894043\n"
     ]
    }
   ],
   "source": [
    "# Update dtypes dictionary to include the above columns as category types\n",
    "for col in convert_to_category:\n",
    "    if col in dtypes:\n",
    "        dtypes[col] = 'category'\n",
    "    else:\n",
    "        dtypes[col] = 'category'\n",
    "\n",
    "crunchbase_iter = pd.read_csv('crunchbase-investments.csv', chunksize=5000, usecols=useful_cols, parse_dates=['funded_at'], dtype=dtypes) \n",
    "\n",
    "# What's the total memory consumption of all chunks combined (MB)?\n",
    "total_memory_usage = 0\n",
    "for chunk in crunchbase_iter:\n",
    "    total_memory_usage += chunk.memory_usage(deep=True).sum()\n",
    "\n",
    "print(total_memory_usage / 2**20)\n"
   ]
  },
  {
   "cell_type": "markdown",
   "metadata": {},
   "source": [
    "## Loading Chunks into SQLite\n",
    "\n",
    "Now we're in good shape to start exploring and analysing the data. Our next step is to load each chunk into a SQLite database so we can query the full dataset."
   ]
  },
  {
   "cell_type": "code",
   "execution_count": 9,
   "metadata": {},
   "outputs": [
    {
     "name": "stdout",
     "output_type": "stream",
     "text": [
      "    cid                    name       type  notnull dflt_value  pk\n",
      "0     0            company_name       TEXT        0       None   0\n",
      "1     1   company_category_code       TEXT        0       None   0\n",
      "2     2    company_country_code       TEXT        0       None   0\n",
      "3     3      company_state_code       TEXT        0       None   0\n",
      "4     4          company_region       TEXT        0       None   0\n",
      "5     5            company_city       TEXT        0       None   0\n",
      "6     6           investor_name       TEXT        0       None   0\n",
      "7     7  investor_category_code       TEXT        0       None   0\n",
      "8     8   investor_country_code       TEXT        0       None   0\n",
      "9     9     investor_state_code       TEXT        0       None   0\n",
      "10   10         investor_region       TEXT        0       None   0\n",
      "11   11           investor_city       TEXT        0       None   0\n",
      "12   12      funding_round_type       TEXT        0       None   0\n",
      "13   13               funded_at  TIMESTAMP        0       None   0\n",
      "14   14       raised_amount_usd       REAL        0       None   0\n"
     ]
    }
   ],
   "source": [
    "# Load the chunks into an SQLite database table\n",
    "\n",
    "import sqlite3\n",
    "\n",
    "conn = sqlite3.connect('crunchbase.db')\n",
    "\n",
    "crunchbase_iter = pd.read_csv('crunchbase-investments.csv', chunksize=5000, usecols=useful_cols, parse_dates=['funded_at'], dtype=dtypes) \n",
    "\n",
    "for chunk in crunchbase_iter:\n",
    "    chunk.to_sql('crunchbase', conn, if_exists='append', index=False)\n",
    "    \n",
    "# Query table and make sure the datatypes match what we expect\n",
    "\n",
    "table_types = pd.read_sql('PRAGMA table_info(crunchbase)', conn)\n",
    "print(table_types)"
   ]
  },
  {
   "cell_type": "markdown",
   "metadata": {},
   "source": [
    "## Use the Pandas SQLite Workflow to Answer Questions\n",
    "\n",
    "Now that the data is in SQLite, we can use the Pandas SQLite workflow to explore and analyse the startup investments in the Crunchbase dataset. We are able to read in subsets of the data using SQL to ensure it fits into the available memory and then use Pandas to run the calculations.\n",
    "As our entire dataset now only consumes 6.6 MB in memory (below our 10 MB target), we don't have to worry about our SQL results being too large.\n",
    "\n",
    "We will answer the following questions:\n",
    "\n",
    "* What proportion of the total amount of funds did the top 10% of startups raise? What about the top 1%? Compare these values to the proportions the bottom 10% and bottom 1% raised.\n",
    "* Which category of company attracted the most investment?\n",
    "* Which investor contributed the most money (across all startups)?\n",
    "* Which investors contributed the most money per startup?\n",
    "* Which funding round was the most popular? Which was the least popular?\n"
   ]
  },
  {
   "cell_type": "code",
   "execution_count": 10,
   "metadata": {
    "scrolled": true
   },
   "outputs": [
    {
     "name": "stdout",
     "output_type": "stream",
     "text": [
      "Top 10% of companies: 64.42804146771424\n",
      "Top 1% of companies: 25.040017618584383\n",
      "Bottom 10% of companies: 0.026323288553174094\n",
      "Bottom 1% of companies: 0.0002172554011867574\n"
     ]
    }
   ],
   "source": [
    "# What proportion of the total amount of funds did the top 10% and 1% raise? What about the bottom 10% and 1%?\n",
    "\n",
    "pd.set_option('display.float_format', lambda x: '%.3f' % x) # Suppress scientific notation\n",
    "\n",
    "crunchbase_data = pd.read_sql(\n",
    "                              '''\n",
    "                              SELECT company_name,\n",
    "                                     SUM(raised_amount_usd) as total_raised\n",
    "                                FROM crunchbase\n",
    "                               GROUP BY company_name\n",
    "                               ORDER BY total_raised DESC;\n",
    "                              ''',\n",
    "                              conn\n",
    "                             )\n",
    "\n",
    "crunchbase_data = crunchbase_data.loc[crunchbase_data['total_raised'].notnull(), :] # Remove companies that have missing values in the total_raised column\n",
    "\n",
    "company_count = crunchbase_data['company_name'].count()\n",
    "overall_funds = crunchbase_data['total_raised'].sum()\n",
    "\n",
    "top_10_percent_companies = crunchbase_data.head((company_count // 100) * 10)\n",
    "top_1_percent_companies = crunchbase_data.head((company_count // 100) * 1)\n",
    "bottom_10_percent_companies = crunchbase_data.tail((company_count // 100) * 10)\n",
    "bottom_1_percent_companies = crunchbase_data.tail((company_count // 100) * 1)\n",
    "\n",
    "top_10_proportion = (top_10_percent_companies['total_raised'].sum() / overall_funds) * 100\n",
    "top_1_proportion = (top_1_percent_companies['total_raised'].sum() / overall_funds) * 100\n",
    "bottom_10_proportion = (bottom_10_percent_companies['total_raised'].sum() / overall_funds) * 100\n",
    "bottom_1_proportion = (bottom_1_percent_companies['total_raised'].sum() / overall_funds) * 100\n",
    "\n",
    "print('Top 10% of companies:', top_10_proportion)\n",
    "print('Top 1% of companies:', top_1_proportion)\n",
    "print('Bottom 10% of companies:', bottom_10_proportion)\n",
    "print('Bottom 1% of companies:', bottom_1_proportion)"
   ]
  },
  {
   "cell_type": "code",
   "execution_count": 11,
   "metadata": {
    "scrolled": false
   },
   "outputs": [
    {
     "name": "stdout",
     "output_type": "stream",
     "text": [
      "   company_category_code     total_raised\n",
      "5                biotech 441585692248.000\n",
      "39              software 292338066896.000\n",
      "24                mobile 259109519008.000\n",
      "6              cleantech 210820900112.000\n",
      "11            enterprise 183443709092.000\n",
      "43                   web 160573059956.000\n",
      "22               medical 101468421124.000\n",
      "2            advertising 100306647516.000\n",
      "9              ecommerce  90268880284.000\n",
      "27       network_hosting  89678735360.000\n",
      "37         semiconductor  89433348932.000\n",
      "16              hardware  83781803676.000\n",
      "14           games_video  77638594776.000\n",
      "3              analytics  54976938116.000\n",
      "36              security  52599484116.000\n",
      "38                social  46121721352.000\n",
      "13               finance  44800810204.000\n",
      "17                health  35157194004.000\n",
      "26              nanotech  33833280000.000\n",
      "33      public_relations  31260936000.000\n",
      "4             automotive  28957006320.000\n",
      "30                 other  25065763220.000\n",
      "35                search  23391159996.000\n",
      "0                   None  23010579724.000\n",
      "10             education  22009234168.000\n",
      "21         manufacturing  20651088040.000\n",
      "28                  news  19667055484.000\n",
      "12               fashion  15608815240.000\n",
      "42                travel  12169572576.000\n",
      "23             messaging  11298659120.000\n",
      "7             consulting   7990416000.000\n",
      "41        transportation   7728224000.000\n",
      "25                 music   7721586000.000\n",
      "32           photo_video   5558594000.000\n",
      "18           hospitality   5069739696.000\n",
      "34           real_estate   4083854256.000\n",
      "29             nonprofit   2055339280.000\n",
      "19                 legal   2005472000.000\n",
      "8                 design   1210560000.000\n",
      "40                sports   1116180000.000\n",
      "20                 local    841440000.000\n",
      "31                  pets    515920000.000\n",
      "15            government      4750000.000\n",
      "1                 2/7/08              NaN\n"
     ]
    }
   ],
   "source": [
    "# Which category of company attracted the most investment?\n",
    "\n",
    "crunchbase_data = pd.read_sql(\n",
    "                              '''\n",
    "                              SELECT company_category_code,\n",
    "                                     SUM(raised_amount_usd) as total_raised\n",
    "                                FROM crunchbase\n",
    "                               GROUP BY company_category_code;\n",
    "                              ''',\n",
    "                              conn\n",
    "                             )\n",
    "\n",
    "crunchbase_data.sort_values('total_raised', axis=0, inplace=True, ascending=False)\n",
    "\n",
    "print(crunchbase_data)"
   ]
  },
  {
   "cell_type": "code",
   "execution_count": 12,
   "metadata": {
    "scrolled": true
   },
   "outputs": [
    {
     "name": "stdout",
     "output_type": "stream",
     "text": [
      "                         investor_name    total_raised\n",
      "5375  Kleiner Perkins Caufield & Byers 44871305504.000\n"
     ]
    }
   ],
   "source": [
    "# Which investor contributed the most money across all startups?\n",
    "\n",
    "crunchbase_data = pd.read_sql(\n",
    "                              '''\n",
    "                              SELECT investor_name,\n",
    "                                     SUM(raised_amount_usd) as total_raised\n",
    "                                FROM crunchbase\n",
    "                               GROUP BY investor_name;\n",
    "                              ''',\n",
    "                              conn\n",
    "                             )\n",
    "\n",
    "biggest_investor_overall = crunchbase_data.sort_values('total_raised', ascending=False, axis=0).head(1)\n",
    "print(biggest_investor_overall)"
   ]
  },
  {
   "cell_type": "code",
   "execution_count": 13,
   "metadata": {
    "scrolled": true
   },
   "outputs": [
    {
     "name": "stdout",
     "output_type": "stream",
     "text": [
      "             company_name                                      investor_name  \\\n",
      "0               Clearwire                                        BrightHouse   \n",
      "1               sigmacare                             Marlin Equity Partners   \n",
      "2                Facebook                           Digital Sky Technologies   \n",
      "3          Wave Broadband                                        GI Partners   \n",
      "4                     AOL                                             Google   \n",
      "...                   ...                                                ...   \n",
      "10352          WhiteWilly                                         john bialk   \n",
      "10353  PictureMe Universe  UW-Eau Claire Entrepreneur Program CEO Idea Ch...   \n",
      "10354            IndyGeek                                           John Fox   \n",
      "10355            uromovie                                                cnc   \n",
      "10356   Main Street Stark                                    Jeff SKI Kinsey   \n",
      "\n",
      "       total_contributed  \n",
      "0         3200000000.000  \n",
      "1         2600000000.000  \n",
      "2         1500000000.000  \n",
      "3         1050000000.000  \n",
      "4         1000000000.000  \n",
      "...                  ...  \n",
      "10352           3000.000  \n",
      "10353           3000.000  \n",
      "10354           2100.000  \n",
      "10355           2000.000  \n",
      "10356           1000.000  \n",
      "\n",
      "[10357 rows x 3 columns]\n"
     ]
    }
   ],
   "source": [
    "# Which investors contributed the most money per startup?\n",
    "\n",
    "crunchbase_data = pd.read_sql(\n",
    "                              '''\n",
    "                              SELECT company_name,\n",
    "                                     investor_name,\n",
    "                                     MAX(raised_amount_usd) as total_contributed\n",
    "                                FROM crunchbase\n",
    "                               GROUP BY company_name\n",
    "                               ORDER BY total_contributed DESC ;\n",
    "                              ''',\n",
    "                              conn\n",
    "                             )\n",
    "\n",
    "crunchbase_data = crunchbase_data.loc[crunchbase_data['total_contributed'].notnull(), :]\n",
    "\n",
    "print(crunchbase_data)\n"
   ]
  },
  {
   "cell_type": "code",
   "execution_count": 14,
   "metadata": {},
   "outputs": [
    {
     "name": "stdout",
     "output_type": "stream",
     "text": [
      "              investors\n",
      "company_name           \n",
      "ecomom              232\n",
      "              investors\n",
      "company_name           \n",
      "series-c+             0\n"
     ]
    }
   ],
   "source": [
    "# Which funding round was the most popular? Which was the least popular?\n",
    "\n",
    "crunchbase_data = pd.read_sql('SELECT company_name, investor_name AS investors FROM crunchbase;', conn)\n",
    "\n",
    "company_investment_count = crunchbase_data.groupby('company_name', axis=0).count()\n",
    "\n",
    "most_popular = company_investment_count.loc[company_investment_count['investors'] == company_investment_count['investors'].max(), :]\n",
    "least_popular = company_investment_count.loc[company_investment_count['investors'] == company_investment_count['investors'].min(), :]\n",
    "\n",
    "print(most_popular)\n",
    "print(least_popular)"
   ]
  }
 ],
 "metadata": {
  "anaconda-cloud": {},
  "kernelspec": {
   "display_name": "Python 3",
   "language": "python",
   "name": "python3"
  },
  "language_info": {
   "codemirror_mode": {
    "name": "ipython",
    "version": 3
   },
   "file_extension": ".py",
   "mimetype": "text/x-python",
   "name": "python",
   "nbconvert_exporter": "python",
   "pygments_lexer": "ipython3",
   "version": "3.8.8"
  }
 },
 "nbformat": 4,
 "nbformat_minor": 2
}
